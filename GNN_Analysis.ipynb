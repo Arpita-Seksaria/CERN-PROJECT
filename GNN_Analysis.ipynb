{
 "cells": [
  {
   "cell_type": "code",
   "execution_count": 1,
   "id": "5b0cbe63",
   "metadata": {},
   "outputs": [
    {
     "name": "stdout",
     "output_type": "stream",
     "text": [
      "total 194049\r\n",
      "drwxr-xr-x. 2 arseksar 2766      4096 Jun 29 19:36 \u001b[0m\u001b[01;34mGNN\u001b[0m/\r\n",
      "-rw-r--r--. 1 arseksar 2766     12715 Jun 29 19:38 garnet.py\r\n",
      "-rw-r--r--. 1 arseksar 2766      4019 Jun 29 19:38 garnet_script.py\r\n",
      "-rw-r--r--. 1 arseksar 2766      3066 Jun 29 20:29 generatorGNN.py\r\n",
      "-rw-r--r--. 1 arseksar 2766    122908 Jun 29 20:30 GNN_model_6.h5\r\n",
      "-rw-r--r--. 1 arseksar 2766 102997286 Jun 29 20:31 GNN_out_6.h5\r\n",
      "drwxr-xr-x. 2 arseksar 2766      4096 Jul  5 13:17 \u001b[01;34mbatch_norm\u001b[0m/\r\n",
      "drwxr-xr-x. 2 arseksar 2766      4096 Jul 10 11:02 \u001b[01;34moutput\u001b[0m/\r\n",
      "-rw-r--r--. 1 arseksar 2766  60116358 Jul 12 18:32 GNN_out_extragarnet.h5\r\n",
      "-rw-r--r--. 1 arseksar 2766    466792 Jul 12 18:32 GNN_model_extragarnet.h5\r\n",
      "-rw-r--r--. 1 arseksar 2766     56991 Jul 20 17:50 ROC_quantize.jpg\r\n",
      "-rw-r--r--. 1 arseksar 2766     50916 Jul 20 17:50 nogen_quantize.jpg\r\n",
      "drwxr-xr-x. 2 arseksar 2766      4096 Jul 28 17:30 \u001b[01;34mno_gen_output\u001b[0m/\r\n",
      "drwxr-xr-x. 2 arseksar 2766      4096 Sep 17 12:49 \u001b[01;34mcsv\u001b[0m/\r\n",
      "drwxr-xr-x. 2 arseksar 2766      4096 Sep 24 10:22 \u001b[01;34mquantized_output\u001b[0m/\r\n",
      "drwxr-xr-x. 2 arseksar 2766      4096 Sep 24 10:43 \u001b[01;34mplots\u001b[0m/\r\n",
      "-rw-r--r--. 1 arseksar 2766  34791402 Sep 25 14:22 GNN_out_withoutquantizefinal.h5\r\n",
      "drwxr-xr-x. 2 arseksar 2766      4096 Oct 12 12:48 \u001b[01;34mfinal_quantized_output\u001b[0m/\r\n",
      "drwxr-xr-x. 2 arseksar 2766      4096 Oct 12 13:09 \u001b[01;34mfinal_quantized_plots\u001b[0m/\r\n",
      "drwxr-xr-x. 2 arseksar 2766      4096 Oct 15 10:07 \u001b[01;34mtrial_quantized_output\u001b[0m/\r\n",
      "drwxr-xr-x. 2 arseksar 2766      4096 Oct 15 16:01 \u001b[01;34mquantized_plots\u001b[0m/\r\n",
      "drwxr-xr-x. 2 arseksar 2766      4096 Oct 18 17:56 \u001b[01;34mallincluded_quantized_plots\u001b[0m/\r\n",
      "drwxr-xr-x. 2 arseksar 2766      4096 Oct 26 12:11 \u001b[01;34mallincluded_quantized_output\u001b[0m/\r\n",
      "drwxr-xr-x. 2 arseksar 2766      4096 Oct 26 14:00 \u001b[01;34mlatest_output\u001b[0m/\r\n",
      "drwxr-xr-x. 2 arseksar 2766      4096 Oct 27 14:15 \u001b[01;34mcsv_paper\u001b[0m/\r\n",
      "drwxr-xr-x. 2 arseksar 2766      4096 Oct 27 14:15 \u001b[01;34mplot_paper\u001b[0m/\r\n",
      "drwxr-xr-x. 2 arseksar 2766      4096 Oct 27 14:30 \u001b[01;34moutput_paper\u001b[0m/\r\n",
      "drwxr-xr-x. 2 arseksar 2766      4096 Oct 28 18:44 \u001b[01;34mFP_output\u001b[0m/\r\n",
      "drwxr-xr-x. 2 arseksar 2766      4096 Oct 29 13:43 \u001b[01;34mSWAN_projects\u001b[0m/\r\n",
      "drwxr-xr-x. 1 arseksar 2766      4096 Oct 29 15:07 \u001b[01;34mFP_plots\u001b[0m/\r\n"
     ]
    }
   ],
   "source": [
    "ls -lrt /eos/user/a/arseksar/"
   ]
  },
  {
   "cell_type": "code",
   "execution_count": 24,
   "id": "5e3d3a4b",
   "metadata": {},
   "outputs": [],
   "source": [
    "import sys\n",
    "import tensorflow as tf\n",
    "from tensorflow import keras\n",
    "import h5py\n",
    "import numpy as np\n",
    "import matplotlib.pyplot as plt\n",
    "from sklearn.metrics import accuracy_score\n",
    "\n",
    "#from garnet import GarNetStack\n",
    "%matplotlib inline\n"
   ]
  },
  {
   "cell_type": "code",
   "execution_count": 3,
   "id": "bbde662f",
   "metadata": {},
   "outputs": [],
   "source": [
    "labels = ['gluon', 'quark', 'W', 'Z', 'top']"
   ]
  },
  {
   "cell_type": "code",
   "execution_count": 4,
   "id": "0ee1cdf6",
   "metadata": {},
   "outputs": [],
   "source": [
    "#total_bit = 8"
   ]
  },
  {
   "cell_type": "code",
   "execution_count": 5,
   "id": "68f5e8e3",
   "metadata": {},
   "outputs": [],
   "source": [
    "from tensorflow.keras.models import load_model"
   ]
  },
  {
   "cell_type": "code",
   "execution_count": 6,
   "id": "6e3e015b",
   "metadata": {},
   "outputs": [],
   "source": [
    "#f = h5py.File(\"/eos/user/a/arseksar/FP_output/GNN_out_check_%ibit.h5\"%(total_bit), \"r\")"
   ]
  },
  {
   "cell_type": "code",
   "execution_count": 7,
   "id": "0ec72215",
   "metadata": {},
   "outputs": [],
   "source": [
    "f = h5py.File(\"/eos/user/a/arseksar/FP_output/GNN_out_FPNew_4bit.h5\", \"r\")"
   ]
  },
  {
   "cell_type": "code",
   "execution_count": 8,
   "id": "9cbe05de",
   "metadata": {},
   "outputs": [
    {
     "data": {
      "text/plain": [
       "<KeysViewHDF5 ['input', 'loss', 'preds', 'target', 'val_loss']>"
      ]
     },
     "execution_count": 8,
     "metadata": {},
     "output_type": "execute_result"
    }
   ],
   "source": [
    "f.keys()"
   ]
  },
  {
   "cell_type": "code",
   "execution_count": 9,
   "id": "2197f567",
   "metadata": {},
   "outputs": [],
   "source": [
    "loss = np.array(f.get(\"loss\"))"
   ]
  },
  {
   "cell_type": "code",
   "execution_count": 10,
   "id": "69c7479e",
   "metadata": {},
   "outputs": [],
   "source": [
    "val_loss = np.array(f.get(\"val_loss\"))"
   ]
  },
  {
   "cell_type": "code",
   "execution_count": 11,
   "id": "6cd26e12",
   "metadata": {},
   "outputs": [],
   "source": [
    "predict_val = f.get(\"preds\")"
   ]
  },
  {
   "cell_type": "code",
   "execution_count": 12,
   "id": "134479ff",
   "metadata": {},
   "outputs": [],
   "source": [
    "y_val = f.get(\"target\")"
   ]
  },
  {
   "cell_type": "code",
   "execution_count": 13,
   "id": "5b2f568f",
   "metadata": {},
   "outputs": [],
   "source": [
    "epoch_number = np.array(range(loss.shape[0]))"
   ]
  },
  {
   "cell_type": "code",
   "execution_count": 14,
   "id": "db582143",
   "metadata": {},
   "outputs": [
    {
     "data": {
      "image/png": "[encoded data removed]",
      "text/plain": [
       "<Figure size 432x288 with 1 Axes>"
      ]
     },
     "metadata": {
      "needs_background": "light"
     },
     "output_type": "display_data"
    }
   ],
   "source": [
    "plt.figure()\n",
    "plt.plot(epoch_number, loss, label='Training Loss')\n",
    "plt.plot(epoch_number, val_loss,label='Validation Loss')\n",
    "plt.ylabel(\"Loss\")\n",
    "plt.xlabel(\"Epoch\")\n",
    "plt.grid(True)\n",
    "plt.legend(loc='upper right')\n",
    "#plt.savefig('%s/efficiency_%ibit.jpg'%(\"/eos/user/a/arseksar/FP_plots\",total_bit))\n",
    "plt.savefig('%s/efficiency_FP'%(\"/eos/user/a/arseksar/FP_plots\"))\n",
    "plt.show()"
   ]
  },
  {
   "cell_type": "code",
   "execution_count": 15,
   "id": "1b8ffe43",
   "metadata": {},
   "outputs": [
    {
     "data": {
      "image/png": "[encoded data removed]",
      "text/plain": [
       "<Figure size 432x288 with 1 Axes>"
      ]
     },
     "metadata": {
      "needs_background": "light"
     },
     "output_type": "display_data"
    }
   ],
   "source": [
    "import pandas as pd\n",
    "from sklearn.metrics import roc_curve, auc\n",
    "df = pd.DataFrame()\n",
    "fpr = {}\n",
    "tpr = {}\n",
    "auc1 = {}\n",
    "\n",
    "plt.figure()\n",
    "for i, label in enumerate(labels):\n",
    "        df[label] = y_val[:,i]\n",
    "        df[label + '_pred'] = predict_val[:,i]\n",
    "\n",
    "        fpr[label], tpr[label], threshold = roc_curve(df[label],df[label+'_pred'])\n",
    "\n",
    "        auc1[label] = auc(fpr[label], tpr[label])\n",
    "\n",
    "        plt.plot(tpr[label],fpr[label],label='%s tagger, auc = %.1f%%'%(label,auc1[label]*100.))\n",
    "plt.semilogy()\n",
    "plt.xlabel(\"sig. efficiency\")\n",
    "plt.ylabel(\"bkg. mistag rate\")\n",
    "plt.ylim(0.000001,1)\n",
    "plt.yscale('linear')\n",
    "plt.grid(True)\n",
    "plt.legend(loc='lower right')\n",
    "#plt.savefig('%s/ROC_%ibit.jpg'%(\"/eos/user/a/arseksar/allincluded_quantized_plots\",total_bit))\n",
    "plt.savefig('%s/ROC_FP.jpg'%(\"/eos/user/a/arseksar/FP_plots\"))\n",
    "plt.show()"
   ]
  },
  {
   "cell_type": "code",
   "execution_count": 16,
   "id": "49c3817a",
   "metadata": {},
   "outputs": [],
   "source": [
    "#with open('ROCAUC_Garnet_nconst_8_nbits_'+'%i'%(total_bit)+'.csv', 'w') as file:\n",
    "with open('ROCAUC_Garnet_nconst_8_nbits_FP.csv', 'w') as file:\n",
    "  header = labels[0]+', '+labels[1]+', '+labels[2]+', '+labels[3]+', '+labels[4]+'\\n'\n",
    "  file.write(header)\n",
    "  rocauc = str(auc1[labels[0]])+','+str(auc1[labels[1]])+', '+str(auc1[labels[2]])+', '+str(auc1[labels[3]])+', '+str(auc1[labels[4]])\n",
    "  file.write(rocauc)"
   ]
  },
  {
   "cell_type": "code",
   "execution_count": 17,
   "id": "26103354",
   "metadata": {},
   "outputs": [],
   "source": [
    "model = 'GarNet'\n",
    "\n",
    "labels = ['gluon', 'quark', 'W', 'Z', 'top']"
   ]
  },
  {
   "cell_type": "code",
   "execution_count": 18,
   "id": "e4bff2f1",
   "metadata": {},
   "outputs": [
    {
     "name": "stdout",
     "output_type": "stream",
     "text": [
      "Label =  gluon  with treshold =  0.3\n",
      "TPR =  0.30007251354858405\n",
      "FPR =  0.043815873138210754\n",
      " \n",
      "Label =  gluon  with treshold =  0.5\n",
      "TPR =  0.5000381650255705\n",
      "FPR =  0.0991733944777356\n",
      " \n",
      "Label =  gluon  with treshold =  0.8\n",
      "TPR =  0.8000152660102282\n",
      "FPR =  0.2934497774523594\n",
      " \n",
      "Label =  quark  with treshold =  0.3\n",
      "TPR =  0.30001188872156614\n",
      "FPR =  0.019624687398583508\n",
      " \n",
      "Label =  quark  with treshold =  0.5\n",
      "TPR =  0.5000198145359436\n",
      "FPR =  0.05218296012064983\n",
      " \n",
      "Label =  quark  with treshold =  0.8\n",
      "TPR =  0.8000118887215661\n",
      "FPR =  0.2089943302216368\n",
      " \n",
      "Label =  W  with treshold =  0.3\n",
      "TPR =  0.3002584474011678\n",
      "FPR =  0.019247707746733088\n",
      " \n",
      "Label =  W  with treshold =  0.5\n",
      "TPR =  0.5000670048817842\n",
      "FPR =  0.04483430799220273\n",
      " \n",
      "Label =  W  with treshold =  0.8\n",
      "TPR =  0.8000191442519383\n",
      "FPR =  0.15900656992274925\n",
      " \n",
      "Label =  Z  with treshold =  0.3\n",
      "TPR =  0.3000497150942675\n",
      "FPR =  0.009407709121722467\n",
      " \n",
      "Label =  Z  with treshold =  0.5\n",
      "TPR =  0.5000382423802058\n",
      "FPR =  0.033663614216521746\n",
      " \n",
      "Label =  Z  with treshold =  0.8\n",
      "TPR =  0.8000114727140617\n",
      "FPR =  0.2091217224677663\n",
      " \n",
      "Label =  top  with treshold =  0.3\n",
      "TPR =  0.30012358589219507\n",
      "FPR =  0.0077047322870711895\n",
      " \n",
      "Label =  top  with treshold =  0.5\n",
      "TPR =  0.5001425991063789\n",
      "FPR =  0.020259878016441264\n",
      " \n",
      "Label =  top  with treshold =  0.8\n",
      "TPR =  0.8000190132141839\n",
      "FPR =  0.1056917624936718\n",
      " \n"
     ]
    }
   ],
   "source": [
    "#with open('performance_garnet_nconst_8_nbits_'+'%i'%(total_bit)+'.csv', 'w') as file:\n",
    "with open('performance_garnet_nconst_8_nbits_FP.csv', 'w') as file:\n",
    "    file.write(\"model,label,treshold,tpr,fpr\\n\")\n",
    "    for label in labels:\n",
    "     for t in [0.3, 0.5, 0.8]:\n",
    "       index = np.argmax(tpr[label]>t)\n",
    "       file.write( model+','+label+','+str(t)+','+str(tpr[label][index])+','+str(fpr[label][index])+'\\n' )\n",
    "       print(\"Label = \", label , \" with treshold = \",t)\n",
    "       print(\"TPR = \",tpr[label][index])\n",
    "       print(\"FPR = \",fpr[label][index])\n",
    "       print(\" \")\n",
    "\n"
   ]
  },
  {
   "cell_type": "code",
   "execution_count": 19,
   "id": "1486b673",
   "metadata": {},
   "outputs": [
    {
     "name": "stdout",
     "output_type": "stream",
     "text": [
      "header =  Index(['model', 'label', 'treshold', 'tpr', 'fpr'], dtype='object')\n"
     ]
    }
   ],
   "source": [
    "#files = [ '/eos/user/a/arseksar/SWAN_projects/GNN/performance_garnet_nconst_8_nbits_'+'%i'%(total_bit)+ '.csv']\n",
    "files = [ '/eos/user/a/arseksar/SWAN_projects/GNN_paper/performance_garnet_nconst_8_nbits_'+ 'FP' + '.csv']\n",
    "dfs = [ pd.read_csv(f) for f in files ]\n",
    "data = pd.concat(dfs, ignore_index=True) \n",
    "print(\"header = \", data.keys())\n"
   ]
  },
  {
   "cell_type": "code",
   "execution_count": 20,
   "id": "ba0ff5fa",
   "metadata": {},
   "outputs": [
    {
     "data": {
      "image/png": "[encoded data removed]",
      "text/plain": [
       "<Figure size 1728x576 with 3 Axes>"
      ]
     },
     "metadata": {
      "needs_background": "light"
     },
     "output_type": "display_data"
    }
   ],
   "source": [
    "def plot(df,ax,t):\n",
    "  labels = list( set( df['label'] ) )\n",
    "  models = list( set( df['model'] ) )\n",
    "  nmodels = len(models) \n",
    "  for m,model in enumerate(models):\n",
    "    plt.gca().set_prop_cycle(None)\n",
    "    for label in labels:\n",
    "      if (m==0):\n",
    "        ax.scatter( m , df['fpr'][ df['label']==label ][ df['model']==model ], marker='o',s=200,label=label)  \n",
    "      else:\n",
    "        ax.scatter( m , df['fpr'][ df['label']==label ][ df['model']==model ], marker='o',s=200)  \n",
    "\n",
    "\n",
    "  ax.xaxis.set_ticks( np.arange(nmodels)  )\n",
    "  ax.xaxis.set_ticklabels( models, rotation=90 )\n",
    "  ax.legend(loc=\"upper right\")\n",
    "  plt.xlabel(\"model\")\n",
    "  plt.ylabel(\"FPR @ \"+str(t)+\" TPR\")\n",
    "\n",
    "\n",
    "treshs  = list( set( data['treshold'] ) )\n",
    "plt.figure(figsize=(24,8))\n",
    "#fig, axx = plt.subplots()\n",
    "for i,t in enumerate(treshs):\n",
    "    dat = data[ data['treshold']==t ]\n",
    "    ax = plt.subplot(1, 3, i+1)\n",
    "    plot(dat,ax,t)"
   ]
  },
  {
   "cell_type": "code",
   "execution_count": 21,
   "id": "3b991f30",
   "metadata": {},
   "outputs": [
    {
     "name": "stdout",
     "output_type": "stream",
     "text": [
      "(array([0., 1.]), array([207596,  52404]))\n",
      "(array([0., 1.]), array([209532,  50468]))\n",
      "(array([0., 1.]), array([207765,  52235]))\n",
      "(array([0., 1.]), array([207702,  52298]))\n",
      "(array([0., 1.]), array([207405,  52595]))\n"
     ]
    },
    {
     "data": {
      "image/png": "[encoded data removed]",
      "text/plain": [
       "<Figure size 432x288 with 1 Axes>"
      ]
     },
     "metadata": {
      "needs_background": "light"
     },
     "output_type": "display_data"
    }
   ],
   "source": [
    "labels = ['gluon', 'quark', 'W', 'Z', 'top']\n",
    "fpr = {}\n",
    "tpr = {}\n",
    "auc1 = {}\n",
    "precision = {}\n",
    "recall = {}\n",
    "NN = {}\n",
    "NP = {}\n",
    "TP = {}\n",
    "FP = {}\n",
    "TN = {}\n",
    "FN = {}\n",
    "tresholds = {}\n",
    "\n",
    "# Model Prediction\n",
    "#Y_predict = model.predict(X_test)\n",
    "\n",
    "# Loop over classes(labels) to get metrics per class and plots\n",
    "ax = plt.subplot(2, 2, 3)\n",
    "for i, label in enumerate(labels):\n",
    "    fpr[label], tpr[label], tresholds[label] = roc_curve(y_val[:,i], predict_val[:,i])\n",
    "#    precision[label], recall[label], tresholds = precision_recall_curve(Y_test[:,i], Y_predict[:,i]) \n",
    "    print( np.unique(y_val[:,i], return_counts=True) )\n",
    "    _ , N = np.unique(y_val[:,i], return_counts=True) # count the NEGATIVES and POSITIVES samples in your test set\n",
    "    NN[label] = N[0]                   # number of NEGATIVES \n",
    "    NP[label] = N[1]                   # number of POSITIVES\n",
    "    TP[label] = tpr[label]*NP[label]\n",
    "    FP[label] = fpr[label]*NN[label] \n",
    "    TN[label] = NN[label] - FP[label]\n",
    "    FN[label] = NP[label] - TP[label]"
   ]
  },
  {
   "cell_type": "code",
   "execution_count": 25,
   "id": "c8d47792",
   "metadata": {},
   "outputs": [
    {
     "name": "stdout",
     "output_type": "stream",
     "text": [
      "0.8249615384615384, 0.8610192307692308, 0.8672538461538462, 0.8730269230769231, 0.9010269230769231, 0.6390576923076923\n"
     ]
    }
   ],
   "source": [
    "# Save NN Accuracy for treshold of 0.5 for each label and the average over all classes\n",
    "acc_avg = float(accuracy_score (np.argmax(y_val,axis=1), np.argmax(predict_val,axis=1)))\n",
    "#with open('ACCURACY_' + '%i'%(total_bit) + '.csv', 'w') as file:\n",
    "with open('ACCURACY_FP'+'.csv', 'w') as file:\n",
    "  header = labels[0]+', '+labels[1]+', '+labels[2]+', '+labels[3]+', '+labels[4]+', '+'acc_avg'+'\\n'\n",
    "  file.write(header)\n",
    "  accuracy = ''\n",
    "  for label in labels:  \n",
    "    idx = np.argmax( tresholds[label] <= 0.5 )\n",
    "    accuracy += str( (TP[label][idx]+TN[label][idx])/(NP[label]+NN[label]) )+', '\n",
    "  accuracy += str(acc_avg) \n",
    "  print (accuracy)\n",
    "  file.write(accuracy)\n"
   ]
  },
  {
   "cell_type": "code",
   "execution_count": null,
   "id": "4633e4e5",
   "metadata": {},
   "outputs": [],
   "source": []
  }
 ],
 "metadata": {
  "kernelspec": {
   "display_name": "Python 3",
   "language": "python",
   "name": "python3"
  },
  "language_info": {
   "codemirror_mode": {
    "name": "ipython",
    "version": 3
   },
   "file_extension": ".py",
   "mimetype": "text/x-python",
   "name": "python",
   "nbconvert_exporter": "python",
   "pygments_lexer": "ipython3",
   "version": "3.9.6"
  }
 },
 "nbformat": 4,
 "nbformat_minor": 5
}
